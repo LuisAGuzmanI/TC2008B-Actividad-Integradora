{
 "cells": [
  {
   "cell_type": "markdown",
   "metadata": {
    "pycharm": {
     "name": "#%% md\n"
    }
   },
   "source": [
    "# Evidencia 1. Actividad Integradora - Robots en un almacen\n",
    "\n",
    "Este modelo representa un espacio de *N* por *M* casillas con una cantidad *K* de cajas repartidas de manera aleatoria por el espacio. En el espacio también existe una cantidad *X* de Robots cuya misión es llevar las cajas a las estanterías ubicadas en la esquina superior izquierda de la cuadricula. \n",
    "\n",
    "## Integrantes del equipo\n",
    "* Luis Ángel Guzmán Iribe - A01741757\n",
    "* Cesar Galvez - A01252177\n",
    "* Antonio López Chávez - A01741741\n",
    "* Sebastián Gálvez Trujillo - A01251884\n",
    "\n",
    "## Profesores\n",
    "* María Angélica Barreda Beltrán\n",
    "* Jorge Mario Cruz Duarte"
   ]
  },
  {
   "cell_type": "markdown",
   "metadata": {
    "pycharm": {
     "name": "#%% md\n"
    }
   },
   "source": [
    "## Reglas\n",
    "\n",
    "### Sobre los robots:\n",
    "* Se inicializan en posiciones vacías aleatorias dentro de la cuadricula\n",
    "* Únicamente pueden moverse hacia las casillas directamente adyacentes a su posicion actual (excluyendo diagonales)\n",
    "* Únicamente pueden moverse hacia casillas vacías, y no pueden coexistir con otro agente en la misma casilla\n",
    "* Pueden cargar un máximo de 5 cajas al mismo tiempo\n",
    "* Cuando ya portan 4 cajas o no hay más cajas en el suelo de la cuadricula, la llevan a la estantería más cercana a la esquina superior izquierda que aún no tiene 5 cajas\n",
    "* Cuando ya no hay cajas en la cuadricula, los robots se estacionan en la esquina inferior derecha\n",
    "\n",
    "#### Sobre el Vuelo de Lévy:\n",
    "La implementación del vuelo de Lévy para este programa funciona seleccionando una casilla aleatoria en la cuadrícula y moviendo al agente hasta esa dirección sin interrupciones. Esta implementación, reduce considerablemente el número de movimientos de los agentes y la cantidad de generaciones necesarias para recoger todas las cajas del piso. El movimiento browniano o aleatorio, en comparación, presenta un mayor número de movimientos y obtiene tiempos de finalización más largos.\n",
    "En el pdf adjunto se incluye una comparación del desempeño de ambos modelos, con Vuelo de Levy y con Movimiento Browniano a lo largo de 10 ejecuciones del sistema.\n",
    "\n",
    "### Sobre las cajas\n",
    "* Se inicializan en posiciones vacías aleatorias dentro de la cuadricula\n",
    "* Pueden coexistir en el mismo espacio que otros agentes, aunque dada nuestra implementación este caso no se presenta.\n",
    "\n",
    "### Sobre la estanterías\n",
    "* Se inicializan en la esquina superior izquierda\n",
    "* Pueden contener un máximo de 5 cajas cada una"
   ]
  },
  {
   "cell_type": "markdown",
   "metadata": {
    "pycharm": {
     "name": "#%% md\n"
    }
   },
   "source": [
    "## Imports\n",
    "\n",
    "Antes de empezar a crear el modelo del juego de la vida con multiagentes es necesario tener instalado los siguientes paquetes:\n",
    "- `python`: versión 3.\n",
    "- `mesa`: el framework de Python para el modelado de agentes.\n",
    "- `numpy`: es una biblioteca de Python para el manejo de matrices, arreglos, manipulación matemática, lógica y mucho más.\n",
    "- `matplotlib`: es una biblioteca para crear visualizaciones estáticas, animadas e interactivas en Python.\n",
    "\n",
    "Para poder modelar el juego de la vida usando el framework de `mesa` es necesario importar dos clases: una para el modelo general, y otro para los agentes. "
   ]
  },
  {
   "cell_type": "code",
   "execution_count": 51,
   "metadata": {
    "pycharm": {
     "name": "#%%\n"
    }
   },
   "outputs": [],
   "source": [
    "# 'Model' sirve para definir los atributos a nivel del modelo, maneja los agentes\n",
    "# 'Agent' es la unidad atómica y puede ser contenido en múltiples instancias en los modelos\n",
    "from mesa import Agent, Model \n",
    "\n",
    "# 'MultiGrid' permite generar un \"grid\" que tenga la capacidad de tener más de un solo agente en una misma casilla\n",
    "from mesa.space import MultiGrid\n",
    "\n",
    "# 'SimultaneousActivation' habilita la opción de activar todos los agentes de manera simultanea.\n",
    "from mesa.time import SimultaneousActivation\n",
    "\n",
    "# 'DataCollector' permite obtener el grid completo a cada paso (o generación), útil para visualizar\n",
    "from mesa.datacollection import DataCollector\n",
    "\n",
    "from random import sample\n",
    "\n",
    "# 'matplotlib' lo usamos para graficar/visualizar como evoluciona el autómata celular.\n",
    "%matplotlib inline\n",
    "import matplotlib\n",
    "import matplotlib.pyplot as plt\n",
    "import matplotlib.animation as animation\n",
    "plt.rcParams[\"animation.html\"] = \"jshtml\"\n",
    "matplotlib.rcParams['animation.embed_limit'] = 2 ** 128\n",
    "\n",
    "# Definimos los siguientes paquetes para manejar valores númericos: 'numpy' & 'pandas'\n",
    "import numpy as np\n",
    "import pandas as pd\n",
    "import math\n",
    "\n",
    "# Definimos otros paquetes que vamos a usar para medir el tiempo de ejecución de nuestro algoritmo.\n",
    "import time \n",
    "import datetime  \n",
    "\n",
    "def round_up(n, decimals=0):\n",
    "    multiplier = 10 ** decimals\n",
    "    return int(math.ceil(n * multiplier) / multiplier)"
   ]
  },
  {
   "cell_type": "markdown",
   "metadata": {
    "pycharm": {
     "name": "#%% md\n"
    }
   },
   "source": [
    "## Crear el modelo"
   ]
  },
  {
   "cell_type": "code",
   "execution_count": 52,
   "metadata": {
    "pycharm": {
     "name": "#%%\n"
    }
   },
   "outputs": [],
   "source": [
    "class BoxAgent(Agent):\n",
    "    \"\"\"\n",
    "    Representa a un agente de caja\n",
    "    \"\"\"\n",
    "    def __init__(self, unique_id, model):\n",
    "        super().__init__(unique_id, model)\n",
    "\n",
    "\n",
    "class ShelveAgent(Agent):\n",
    "    \"\"\"\n",
    "    Representa a un agente estantería\n",
    "    \"\"\"\n",
    "    def __init__(self, unique_id, model):\n",
    "        super().__init__(unique_id, model)\n",
    "        self.boxes = 0\n",
    "\n",
    "\n",
    "class RobotAgent(Agent):\n",
    "    \"\"\"\n",
    "    Representa a un agente robot, el cual tiene la tarea de acomodar el almacén al apilar las cajas que encuentra\n",
    "    \"\"\"\n",
    "\n",
    "    def __init__(self, unique_id, model, levy_flight):\n",
    "\n",
    "        super().__init__(unique_id, model)\n",
    "        self.movements = 0\n",
    "        self.boxes = 0\n",
    "        self.levy_flight = levy_flight\n",
    "        self.move_to_pos = None\n",
    "        self.finding_shelve = False\n",
    "    \n",
    "    # Movimiento browniano, elije una casilla aleatoria vacía en su vecidad para moverse hacia ella \n",
    "    def brownian_motion(self):\n",
    "        possible_steps = []\n",
    "        possible_steps = self.model.grid.get_neighborhood(\n",
    "            self.pos,\n",
    "            moore=False,\n",
    "            include_center=False,\n",
    "        )\n",
    "\n",
    "        # Elimina las posiciones ocupadas por otros agntes de la lista de posibles posiciones a moverse\n",
    "        index = -1\n",
    "        for (stepX, stepY) in possible_steps:\n",
    "            index += 1\n",
    "            if not self.model.grid.is_cell_empty([stepX, stepY]):\n",
    "                del possible_steps[index]\n",
    "\n",
    "        if len(possible_steps) > 0:\n",
    "            new_position = self.random.choice(possible_steps)\n",
    "            self.model.grid.move_agent(self, new_position)\n",
    "            self.movements += 1 \n",
    "\n",
    "    # Vuelo de Levy, evita que se cicle en una posición y queden casillas sin visitar\n",
    "    def levy_flight_motion(self):\n",
    "        # Genera un numero aleatorio para entrar en el vuelo de levy\n",
    "        if np.random.randint(10) == 0:\n",
    "            self.move_to_pos = self.model.grid.find_empty()\n",
    "\n",
    "        # Si ya se llegó a la casilla elegida aleatoriamente, se reinicia la variable que guarda el destimo\n",
    "        if self.pos == self.move_to_pos:\n",
    "            self.move_to_pos = None\n",
    "\n",
    "        # Si se elije la opción del vuelo de Levy, el programa determina una posición aleatoria en la cuadricula con una frecuencia aleatoria y el robot se mueve hacia esa casilla\n",
    "        if self.move_to_pos != None:\n",
    "\n",
    "            new_position = self.pos\n",
    "            if self.pos[0] > self.move_to_pos[0] and self.model.grid.is_cell_empty((self.pos[0] - 1, self.pos[1])):\n",
    "                new_position = (self.pos[0] - 1, self.pos[1])\n",
    "                self.movements += 1 \n",
    "                self.model.grid.move_agent(self, new_position)\n",
    "            elif self.pos[0] < self.move_to_pos[0] and self.model.grid.is_cell_empty((self.pos[0] + 1, self.pos[1])):\n",
    "                new_position = (self.pos[0] + 1, self.pos[1])\n",
    "                self.movements += 1 \n",
    "                self.model.grid.move_agent(self, new_position)\n",
    "            elif self.pos[1] > self.move_to_pos[1] and self.model.grid.is_cell_empty((self.pos[0], self.pos[1] - 1)):\n",
    "                new_position = (self.pos[0], self.pos[1] - 1)\n",
    "                self.movements += 1 \n",
    "                self.model.grid.move_agent(self, new_position)\n",
    "            elif self.pos[1] < self.move_to_pos[1] and self.model.grid.is_cell_empty((self.pos[0], self.pos[1] + 1)):\n",
    "                new_position = (self.pos[0], self.pos[1] + 1)\n",
    "                self.movements += 1 \n",
    "                self.model.grid.move_agent(self, new_position)\n",
    "            else:\n",
    "                # Para evitar que los agentes se queden atascados en su camino, se usa el movimiento aleatorio para abrir caminos y salir del atasque\n",
    "                self.brownian_motion()\n",
    "                # print(self.unique_id, '-> Dodge!')\n",
    "\n",
    "        else:\n",
    "            self.brownian_motion()\n",
    "\n",
    "    def pickUpBox(self):\n",
    "\n",
    "        if self.boxes > 4:\n",
    "            return False\n",
    "\n",
    "        # Guarda en un arreglo a los agentes que se encuentran adyacentes a la celda\n",
    "        adjacents = self.model.grid.get_neighbors(\n",
    "            self.pos,\n",
    "            moore=False,\n",
    "            include_center=False,\n",
    "        )\n",
    "\n",
    "        # Revisa si tiene una caja en las casillas adyacentes, si sí, la recoje y regresa 'True' para no moverse, si no encuentra cajas, regresa 'False' para moverse\n",
    "        for adjacent in adjacents:\n",
    "            if (isinstance(adjacent, BoxAgent)):\n",
    "                # agarrar caja\n",
    "                self.model.grid.remove_agent(adjacent)\n",
    "                self.boxes += 1\n",
    "                return True\n",
    "\n",
    "        return False\n",
    "\n",
    "    def deliverBox(self):\n",
    "        \"\"\"\n",
    "        Se mueve hasta la casilla adyacente a una estantería, cuando ya está adyacente, deposita las cajas en dicha estantería\n",
    "        \"\"\"\n",
    "        posX, posY = self.pos\n",
    "        next_pos = (posX, posY)\n",
    "\n",
    "        # Si ya es adyacente a la estantería, deposita las cajas en la misma, termina la función\n",
    "        if self.finding_shelve:\n",
    "            # print(self.pos)\n",
    "            \n",
    "            shelve = self.model.grid.get_cell_list_contents((0, posY))[0]\n",
    "\n",
    "            remaining_spaces = 5 - shelve.boxes\n",
    "            leaving_boxes = min(self.boxes, remaining_spaces)\n",
    "            shelve.boxes += leaving_boxes\n",
    "            self.boxes -= leaving_boxes  \n",
    "            \n",
    "            # print(self.unique_id, '->', shelve.boxes, self.boxes)\n",
    "\n",
    "            if self.boxes <= 0:\n",
    "                self.finding_shelve = False\n",
    "            \n",
    "\n",
    "            next_pos = (posX, posY + 1)\n",
    "\n",
    "        # Se mueve hacia la coordena (0,1). Primero se alinea con el eje vertical, y luego se alinea con el eje horizontal\n",
    "        elif posX <= 1 and posY > 0:\n",
    "            next_pos = (posX + 1, posY)\n",
    "        elif posY > 0:\n",
    "            next_pos = (posX, posY - 1)\n",
    "        elif posX > 1:\n",
    "            next_pos = (posX - 1, posY)\n",
    "        else:\n",
    "            self.finding_shelve = True\n",
    "            return\n",
    "\n",
    "        next_tile_content = self.model.grid.get_cell_list_contents([next_pos])\n",
    "\n",
    "        # Revisa si hay algo en su camino\n",
    "        if len(next_tile_content) == 0:\n",
    "            self.model.grid.move_agent(self, next_pos)\n",
    "            self.movements += 1\n",
    "\n",
    "        # Revisa si el Agente en su camino es una caja, ya no podrá moverse en este turno\n",
    "        elif isinstance(next_tile_content[0], BoxAgent):\n",
    "\n",
    "            # Si tiene menos de 5 cajas, remueve el agente caja y lo agrega a su contador local de cajas que porta\n",
    "            if self.boxes < 5:\n",
    "                self.model.grid.remove_agent(next_tile_content[0])\n",
    "                self.boxes += 1\n",
    "\n",
    "            # Si ya llegó a su maximo de cajas, revisa si la puede mover a una casilla adyacente vacía, si es el caso, lo hace\n",
    "            else:\n",
    "                for neighboring_cell in self.model.grid.iter_neighborhood(self.pos, moore=False, include_center=False):\n",
    "                    if self.model.grid.is_cell_empty(neighboring_cell):\n",
    "                        self.model.grid.move_agent(\n",
    "                            next_tile_content[0], neighboring_cell)\n",
    "                        break\n",
    "        elif not self.finding_shelve:\n",
    "            # Para evitar que los agentes se queden atascados en su camino, se usa el movimiento aleatorio para abrir caminos y salir del atasque\n",
    "            self.brownian_motion()\n",
    "            # print(self.unique_id, '-> Dodge!')\n",
    "\n",
    "    def goToCorner(self):\n",
    "        \"\"\"\n",
    "        Secuencia de finalización del robot, se mueve hacia la esquina inferior derecha \n",
    "        Cuando esa posición ya está ocupada, se estaciona en la última columna de la derecha en la posición más cercana a dicha esquina   \n",
    "        \"\"\"\n",
    "\n",
    "        posX, posY = self.pos\n",
    "        next_pos = (posX, posY)\n",
    "\n",
    "        if posY < self.model.height - 1:\n",
    "            next_pos = (posX, posY + 1)\n",
    "        elif posX < self.model.width - 1:\n",
    "            next_pos = (posX + 1, posY)\n",
    "\n",
    "        if len(self.model.grid.get_cell_list_contents(next_pos)) == 0:\n",
    "            self.model.grid.move_agent(self, next_pos)\n",
    "            self.movements += 1\n",
    "    \n",
    "    def step(self):\n",
    "        remaining_boxes = self.model.get_remaining_boxes()\n",
    "\n",
    "        # Si no está portando ninguna caja, y cajas restantes en el escenario, inicia la secuenca de finalización\n",
    "        if self.boxes == 0 and remaining_boxes == 0:\n",
    "            self.goToCorner()\n",
    "\n",
    "        # Si está portando 4 cajas, o ya no hay cajas restantes en el escenario pero aún tiene cajas por entregar, las entrega en la estantería correspondiente\n",
    "        elif self.boxes == 5 or remaining_boxes == 0:\n",
    "            self.deliverBox()\n",
    "\n",
    "        # Si no puede recojer ninguna caja en su vecindad, se mueve\n",
    "        elif not self.pickUpBox():\n",
    "            if self.levy_flight:\n",
    "                self.levy_flight_motion()\n",
    "            else:\n",
    "                self.brownian_motion()\n",
    "                \n",
    "\n",
    "\n",
    "class WarehouseModel(Model):\n",
    "    \"\"\"\n",
    "    Define el modelo de la almacén\n",
    "    \"\"\"\n",
    "\n",
    "    def __init__(self, width, height, num_robot_agents, num_boxes, levy_flight=False):\n",
    "        self.width = width\n",
    "        self.height = height\n",
    "        self.num_robot_agents = num_robot_agents\n",
    "        self.num_boxes = num_boxes\n",
    "        self.grid_size = width * height\n",
    "\n",
    "        self.grid = MultiGrid(width, height, False)\n",
    "        self.schedule = SimultaneousActivation(self)\n",
    "        \n",
    "        # Crea los agentes 'Shelve' (Estantería)\n",
    "        for i in range(round_up(num_boxes/5)):\n",
    "            s = ShelveAgent(num_boxes + num_robot_agents + i, self)\n",
    "            self.grid.place_agent(s, (0, i))\n",
    "            self.schedule.add(s)\n",
    "      \n",
    "        # Crea los agentes 'Robot'\n",
    "        for i in range(num_robot_agents):\n",
    "            r = RobotAgent(i, self, levy_flight)\n",
    "            self.grid.place_agent(r, self.grid.find_empty())\n",
    "            self.schedule.add(r)\n",
    "\n",
    "        # Crea los agentes 'Box' (Caja)\n",
    "        for i in range(num_boxes):\n",
    "            b = BoxAgent(num_robot_agents + i, self)\n",
    "            self.grid.place_agent(b, self.grid.find_empty())\n",
    "\n",
    "        # Aquí definimos el colector de datos para obtener el grid completo.\n",
    "        self.datacollector = DataCollector(\n",
    "            model_reporters={\n",
    "                \"Grid\": self.get_grid,\n",
    "                \"RemainingBoxes\": self.get_remaining_boxes,\n",
    "            },\n",
    "            agent_reporters={\n",
    "                \"Movimientos\": lambda a: a.movements if isinstance(a, RobotAgent) else -1,\n",
    "                \"ShelveBoxes\": lambda a: a.boxes if isinstance(a, ShelveAgent) else -1,\n",
    "            }\n",
    "        )\n",
    "        \n",
    "\n",
    "    def step(self):\n",
    "        \"\"\"\n",
    "        En cada paso el colector toma la información que se definió y almacena el grid para luego\n",
    "        graficarlo.\n",
    "        \"\"\"\n",
    "        self.datacollector.collect(self)\n",
    "        self.schedule.step()\n",
    "\n",
    "    def get_grid(self):\n",
    "        \"\"\"\n",
    "        Esta es una función auxiliar que nos permite guardar el grid para cada uno de los agentes.\n",
    "        :param model: El modelo del cual obtener el grid.\n",
    "        :return: Matriz con la información del grid del agente.\n",
    "        \"\"\"\n",
    "\n",
    "        # Generamos la grid para contener los valores\n",
    "        grid = np.zeros((self.grid.width, self.grid.height))\n",
    "\n",
    "        # Asignamos una celda a cada uno de los elementos de la grilla, manda los valores de suciedad o de barredora a la celda para su color designado\n",
    "        for cell in self.grid.coord_iter():\n",
    "            cell_content, x, y = cell\n",
    "\n",
    "            if len(cell_content) == 0:\n",
    "                continue\n",
    "\n",
    "            if isinstance(cell_content[0], RobotAgent):\n",
    "                if cell_content[0].move_to_pos == None:\n",
    "                    grid[x][y] = 4\n",
    "                else:\n",
    "                    grid[x][y] = 3\n",
    "            elif isinstance(cell_content[0], BoxAgent):\n",
    "                grid[x][y] = 1\n",
    "            elif isinstance(cell_content[0], ShelveAgent):\n",
    "                grid[x][y] = 2\n",
    "\n",
    "        # Regresa el grid con cada celda teniendo un valor para su coloreado. 0 = blanco, 1 = negro, 2 = azul\n",
    "\n",
    "        return grid\n",
    "\n",
    "    def get_remaining_boxes(self):\n",
    "        \"\"\"\n",
    "        Esta es una función auxiliar que sirve para determinar cuantas cajas restantes hay en la cuadricula. Útil para activar la secuencia de finalización de los robots\n",
    "        :param model: El modelo del cual obtener el grid.\n",
    "        :return: Matriz con la información del grid del agente.\n",
    "        \"\"\"\n",
    "\n",
    "        remaining_boxes = 0\n",
    "\n",
    "        for cell in self.grid.coord_iter():\n",
    "            cell_content = cell[0]\n",
    "\n",
    "            if len(cell_content) == 0:\n",
    "                continue\n",
    "\n",
    "            elif isinstance(cell_content[0], BoxAgent):\n",
    "                remaining_boxes += 1\n",
    "\n",
    "        return remaining_boxes\n"
   ]
  },
  {
   "cell_type": "markdown",
   "metadata": {
    "pycharm": {
     "name": "#%% md\n"
    }
   },
   "source": [
    "# Ejecución del modelo\n",
    "A continuación corremos el modelo, asignando valores de anchura, altura, generaciones, número de agentes, etc."
   ]
  },
  {
   "cell_type": "code",
   "execution_count": 169,
   "metadata": {
    "pycharm": {
     "name": "#%%\n"
    },
    "scrolled": true
   },
   "outputs": [
    {
     "name": "stdout",
     "output_type": "stream",
     "text": [
      "4\n",
      "Generaciones recorridas: 150\n",
      "Tiempo de ejecución: 0:00:00.055848\n",
      "Tiempo máximo de ejecución: 0.1 Segundos\n"
     ]
    }
   ],
   "source": [
    "# Definimos el número de agentes Robot\n",
    "NUM_AGENTS = 5\n",
    "\n",
    "# Definimos el ancho del Grid\n",
    "GRID_WIDTH = 10\n",
    "\n",
    "# Definimos la altura del Grid\n",
    "GRID_HEIGHT = 10\n",
    "\n",
    "# Definimos el porcentaje de celdas sucias al comenzar la simulación (valor decimal)\n",
    "NUM_BOXES = 20\n",
    "\n",
    "# Tiempo máximo para la ejecución (segundos y decimales de segundo [00.000000])\n",
    "MAX_TIME = 0.1\n",
    "\n",
    "# Definimos el número de generaciones a correr\n",
    "NUM_GENERATIONS = 150\n",
    "\n",
    "# Parametro que define si el comportamiento de los agntes se asemeja al vuelo de Levy, si es Falso, el comportamiento se asemeja al movimiento browniano \n",
    "LEVY_FLIGHT = False\n",
    "\n",
    "# Registramos el tiempo de inicio y corremos el modelo\n",
    "\n",
    "print(round_up(NUM_BOXES/5))\n",
    "\n",
    "if GRID_HEIGHT >= round_up(NUM_BOXES/5):\n",
    "        start_time = time.time()\n",
    "        model = WarehouseModel(GRID_WIDTH, GRID_HEIGHT, NUM_AGENTS, NUM_BOXES, LEVY_FLIGHT)\n",
    "\n",
    "        NUM_GEN_AUX = 0\n",
    "        for i in range(NUM_GENERATIONS):\n",
    "                timeVar = str(datetime.timedelta(seconds=(time.time() - start_time)))\n",
    "                timeVarUp = slice(5,len(timeVar))\n",
    "                timeVarCurrent = float(timeVar[timeVarUp])\n",
    "                if (timeVarCurrent <= MAX_TIME):\n",
    "                        NUM_GEN_AUX += 1\n",
    "                        model.step()\n",
    "\n",
    "        print('Generaciones recorridas:', NUM_GEN_AUX)\n",
    "\n",
    "        # Imprimimos el tiempo que le tomó correr al modelo y el tiempo máximo establecido.\n",
    "        print('Tiempo de ejecución:', str(datetime.timedelta(seconds=(time.time() - start_time))))\n",
    "        print('Tiempo máximo de ejecución:', MAX_TIME, 'Segundos')\n",
    "else:\n",
    "        print('Aumenta el parametro \"GRID_HEIGHT\", no hay espacio suficiente para colocar las estanterías')"
   ]
  },
  {
   "cell_type": "markdown",
   "metadata": {
    "pycharm": {
     "name": "#%% md\n"
    }
   },
   "source": [
    "Obtenemos la información que almacenó el colector, este nos entregará un DataFrame de pandas que contiene toda la información. Esta información se utiliza para la graficación/animación posterior."
   ]
  },
  {
   "cell_type": "code",
   "execution_count": 170,
   "metadata": {
    "pycharm": {
     "name": "#%%\n"
    }
   },
   "outputs": [
    {
     "name": "stdout",
     "output_type": "stream",
     "text": [
      "Total de movimientos de los agentes:  696\n",
      "Generaciones necesarias para recoger todas las cajas:  131\n"
     ]
    }
   ],
   "source": [
    "all_grid = model.datacollector.get_model_vars_dataframe().loc[:,[\"Grid\"]]\n",
    "remaining_boxes = model.datacollector.get_model_vars_dataframe().loc[:,[\"RemainingBoxes\"]]\n",
    "\n",
    "movementsDf = model.datacollector.get_agent_vars_dataframe().loc[:, [\"Movimientos\"]]\n",
    "\n",
    "total_robot_movements = 0\n",
    "for index, row in movementsDf.tail(NUM_AGENTS).iterrows():\n",
    "    if row.Movimientos == -1:\n",
    "        continue\n",
    "    total_robot_movements += row.Movimientos\n",
    "\n",
    "print('Total de movimientos de los agentes: ', total_robot_movements)\n",
    "\n",
    "steps_to_zero = 0\n",
    "\n",
    "for index, row in remaining_boxes.iterrows():\n",
    "    if row[\"RemainingBoxes\"] == 0:\n",
    "        break;\n",
    "    steps_to_zero += 1\n",
    "\n",
    "print('Generaciones necesarias para recoger todas las cajas: ', steps_to_zero)\n",
    "\n"
   ]
  },
  {
   "cell_type": "markdown",
   "metadata": {
    "pycharm": {
     "name": "#%% md\n"
    }
   },
   "source": [
    "Graficamos la información usando `matplotlib`"
   ]
  },
  {
   "cell_type": "code",
   "execution_count": 171,
   "metadata": {},
   "outputs": [
    {
     "data": {
      "image/png": "[encoded data removed]",
      "text/plain": [
       "<Figure size 432x288 with 1 Axes>"
      ]
     },
     "metadata": {
      "needs_background": "light"
     },
     "output_type": "display_data"
    }
   ],
   "source": [
    "clean_tiles_plt = remaining_boxes[remaining_boxes[\"RemainingBoxes\"] > 0].plot() \n",
    "# La gráfica no muestra el 0, pero llega a el inmediatamente despues de que termina la gráfica"
   ]
  },
  {
   "cell_type": "code",
   "execution_count": 172,
   "metadata": {
    "pycharm": {
     "name": "#%%\n"
    }
   },
   "outputs": [],
   "source": [
    "%%capture\n",
    "fig, axs = plt.subplots(figsize=(8,8))\n",
    "axs.set_xticks([])\n",
    "axs.set_yticks([])\n",
    "cmap = matplotlib.cm.get_cmap('viridis', 4) # Puede ser cualquier otra\n",
    "cmap = cmap(np.linspace(0, 1, 4))\n",
    "cmap[0] = np.array([256/256, 256/256, 256/256, 1]) # Piso\n",
    "cmap[1] = np.array([154/256, 123/256, 79/256, 1]) # Caja\n",
    "cmap[2] = np.array([000/256, 000/256, 000/256, 1]) # Estantería\n",
    "cmap[3] = np.array([180/256, 180/256, 180/256, 1]) # Robot\n",
    "\n",
    "new_cmap = matplotlib.colors.ListedColormap(cmap)\n",
    "patch = plt.imshow(all_grid.iloc[0][0], cmap=new_cmap)\n",
    "\n",
    "def animate(i):\n",
    "    patch.set_data(all_grid.iloc[i][0])\n",
    "    \n",
    "anim = animation.FuncAnimation(fig, animate, frames=NUM_GEN_AUX)"
   ]
  },
  {
   "cell_type": "code",
   "execution_count": 173,
   "metadata": {
    "pycharm": {
     "name": "#%%\n"
    }
   },
   "outputs": [],
   "source": [
    "# anim"
   ]
  }
 ],
 "metadata": {
  "kernelspec": {
   "display_name": "Python 3.10.0 64-bit",
   "language": "python",
   "name": "python3"
  },
  "language_info": {
   "codemirror_mode": {
    "name": "ipython",
    "version": 3
   },
   "file_extension": ".py",
   "mimetype": "text/x-python",
   "name": "python",
   "nbconvert_exporter": "python",
   "pygments_lexer": "ipython3",
   "version": "3.10.0"
  },
  "vscode": {
   "interpreter": {
    "hash": "369f2c481f4da34e4445cda3fffd2e751bd1c4d706f27375911949ba6bb62e1c"
   }
  }
 },
 "nbformat": 4,
 "nbformat_minor": 4
}
